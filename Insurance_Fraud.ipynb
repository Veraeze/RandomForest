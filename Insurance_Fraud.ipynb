{
 "cells": [
  {
   "cell_type": "code",
   "execution_count": 1,
   "id": "ae82d958-faef-4e6c-ab1d-b563b1daca3d",
   "metadata": {},
   "outputs": [],
   "source": [
    "# import neccessary libraries\n",
    "\n",
    "import numpy as np \n",
    "import pandas as pd\n",
    "import seaborn as sns\n",
    "import matplotlib.pyplot as plt\n",
    "%matplotlib inline"
   ]
  },
  {
   "cell_type": "code",
   "execution_count": null,
   "id": "1174390b-d8cc-40c8-b6f3-49e3c151d9c9",
   "metadata": {},
   "outputs": [],
   "source": [
    "# data visualization setting\n",
    "\n",
    "sns.set(style='whitegrid')\n",
    "plt.rcParams['figure.figsize'] = (15, 8)"
   ]
  },
  {
   "cell_type": "code",
   "execution_count": 3,
   "id": "2ac4dd5e-251b-4f99-98ec-f9363093c684",
   "metadata": {},
   "outputs": [],
   "source": [
    "# load the dataset using pd\n",
    "\n",
    "df = pd.read_excel(\"datasets/Insurance_fraud.xlsx\")\n",
    "df.to_csv(\"Insurance_fraud.csv\", index=False)"
   ]
  },
  {
   "cell_type": "code",
   "execution_count": null,
   "id": "fb1cbb6a-68c6-4901-89ef-b65f123d174b",
   "metadata": {},
   "outputs": [],
   "source": []
  }
 ],
 "metadata": {
  "kernelspec": {
   "display_name": "Python 3 (ipykernel)",
   "language": "python",
   "name": "python3"
  },
  "language_info": {
   "codemirror_mode": {
    "name": "ipython",
    "version": 3
   },
   "file_extension": ".py",
   "mimetype": "text/x-python",
   "name": "python",
   "nbconvert_exporter": "python",
   "pygments_lexer": "ipython3",
   "version": "3.11.9"
  }
 },
 "nbformat": 4,
 "nbformat_minor": 5
}

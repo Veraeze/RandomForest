{
 "cells": [
  {
   "cell_type": "code",
   "execution_count": 1,
   "id": "be791926-190d-435e-bdb6-ddbdfa700b21",
   "metadata": {},
   "outputs": [],
   "source": [
    "# import neccessary libraries\n",
    "\n",
    "import numpy as np \n",
    "import pandas as pd\n",
    "import seaborn as sns\n",
    "import matplotlib.pyplot as plt\n",
    "%matplotlib inline"
   ]
  },
  {
   "cell_type": "code",
   "execution_count": 2,
   "id": "f905223a-84c2-4e25-bfed-0cd09f1b3a98",
   "metadata": {},
   "outputs": [],
   "source": [
    "# data visualization setting\n",
    "\n",
    "sns.set(style='whitegrid')\n",
    "plt.rcParams['figure.figsize'] = (15, 8)"
   ]
  },
  {
   "cell_type": "code",
   "execution_count": 3,
   "id": "1ba5e8a3-9a46-46d8-a001-56956f74d637",
   "metadata": {},
   "outputs": [],
   "source": [
    "# load the csv dataset using pd\n",
    "\n",
    "df = pd.read_csv('datasets/Loan_default.csv')"
   ]
  },
  {
   "cell_type": "code",
   "execution_count": null,
   "id": "d18a8fd2-9bfc-4e1d-9b6c-aab567a17c25",
   "metadata": {},
   "outputs": [],
   "source": []
  }
 ],
 "metadata": {
  "kernelspec": {
   "display_name": "Python 3 (ipykernel)",
   "language": "python",
   "name": "python3"
  },
  "language_info": {
   "codemirror_mode": {
    "name": "ipython",
    "version": 3
   },
   "file_extension": ".py",
   "mimetype": "text/x-python",
   "name": "python",
   "nbconvert_exporter": "python",
   "pygments_lexer": "ipython3",
   "version": "3.11.9"
  }
 },
 "nbformat": 4,
 "nbformat_minor": 5
}

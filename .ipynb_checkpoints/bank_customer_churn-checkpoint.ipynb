{
 "cells": [
  {
   "cell_type": "code",
   "execution_count": 1,
   "id": "e0934d6c-c2e4-4b6c-a125-32a071bb4443",
   "metadata": {},
   "outputs": [],
   "source": [
    "# import neccessary libraries\n",
    "\n",
    "import numpy as np \n",
    "import pandas as pd\n",
    "import seaborn as sns\n",
    "import matplotlib.pyplot as plt\n",
    "%matplotlib inline"
   ]
  },
  {
   "cell_type": "code",
   "execution_count": 2,
   "id": "3947313b-ac37-4cb9-a0e2-aa3cf7be4370",
   "metadata": {},
   "outputs": [],
   "source": [
    "# data visualization setting\n",
    "\n",
    "sns.set(style='whitegrid')\n",
    "plt.rcParams['figure.figsize'] = (15, 10)"
   ]
  },
  {
   "cell_type": "code",
   "execution_count": 3,
   "id": "8e6fe740-aa6e-48e8-9415-1623bc941300",
   "metadata": {},
   "outputs": [],
   "source": [
    "# load the csv dataset using pd\n",
    "\n",
    "df = pd.read_csv('datasets/bank_churn.csv')"
   ]
  },
  {
   "cell_type": "code",
   "execution_count": null,
   "id": "d70bcaa6-59a9-49e3-833d-694682212ec4",
   "metadata": {},
   "outputs": [],
   "source": []
  }
 ],
 "metadata": {
  "kernelspec": {
   "display_name": "Python 3 (ipykernel)",
   "language": "python",
   "name": "python3"
  },
  "language_info": {
   "codemirror_mode": {
    "name": "ipython",
    "version": 3
   },
   "file_extension": ".py",
   "mimetype": "text/x-python",
   "name": "python",
   "nbconvert_exporter": "python",
   "pygments_lexer": "ipython3",
   "version": "3.11.9"
  }
 },
 "nbformat": 4,
 "nbformat_minor": 5
}
